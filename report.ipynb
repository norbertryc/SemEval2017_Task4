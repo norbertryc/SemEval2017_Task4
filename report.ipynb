{
 "cells": [
  {
   "cell_type": "markdown",
   "metadata": {},
   "source": [
    "# Raport z rozwiązania problemu"
   ]
  },
  {
   "cell_type": "markdown",
   "metadata": {},
   "source": [
    "W danych znalazłem nastepujące \"problemy\":\n",
    "1. Linija zawierająca tylko i wyłącznie cudzysłów (i tabulator po niej).\n",
    "2. Niektóre tweety (cały tekst) są objęte w cudzysłów, a niektóre nie.\n",
    "3. Podwójne cudzosłowy oznaczające tak naprawdę cudzysłowy pojedyncze.\n",
    "\n",
    "Rozwiązanie:\n",
    "1. zakładam, że jest to sytuacja, która ogólnie może się zdarzyć i polega na tym, że cudzysłów z wiadomości w danej lini może znaleźć się w następnej lini. Można by to uogólnić na przypadki, gdy w wiadomości jest znak przejścia do nowej lini i część wiadomości przenosi się do kolejnej lini, ale uznaję, że nie ma takiej potrzeby.\n",
    "2. Zakładam, że jest to niepoążadna cech wynikła być może z zbierania tweetów dwoma różnymi sposobami. Ujednolicam tweety, usuwając cudzysłowy z początku i końca w tweetach, wkótrych wsytępuje znak '\"' jednocześnie na końcu i początku. Nie jest to podejście doskonałe, bo może się zdarzyć, że po te cuchysłowy obejmują słowa/zwroty z początku i końca tweeta, ale z praktycznego punktu widzenia, uznaję takie podejście za właściwe.\n",
    "3. Zamieniam podwójne cudzysłowy na pojedyczne ('\"\"' -> '\"').\n"
   ]
  },
  {
   "cell_type": "code",
   "execution_count": 1,
   "metadata": {},
   "outputs": [
    {
     "name": "stderr",
     "output_type": "stream",
     "text": [
      "/usr/local/lib/python3.6/dist-packages/h5py/__init__.py:36: FutureWarning: Conversion of the second argument of issubdtype from `float` to `np.floating` is deprecated. In future, it will be treated as `np.float64 == np.dtype(float).type`.\n",
      "  from ._conv import register_converters as _register_converters\n",
      "Using Theano backend.\n"
     ]
    }
   ],
   "source": [
    "from tools import *\n",
    "from models import *"
   ]
  },
  {
   "cell_type": "markdown",
   "metadata": {},
   "source": [
    "### Dane:"
   ]
  },
  {
   "cell_type": "code",
   "execution_count": 2,
   "metadata": {
    "scrolled": true
   },
   "outputs": [
    {
     "name": "stdout",
     "output_type": "stream",
     "text": [
      "Data report:\n",
      " Number of obserwations:  6000\n",
      "Data report:\n",
      " Number of obserwations:  1999\n",
      "Data report:\n",
      " Number of obserwations:  20632\n"
     ]
    }
   ],
   "source": [
    "train = \"data/twitter-2016train-A.txt\"\n",
    "dev = \"data/twitter-2016dev-A.txt\"\n",
    "test = \"data/twitter-2016test-A.txt\"\n",
    "\n",
    "x_train, y_train = read_data(train)\n",
    "x_dev, y_dev = read_data(dev)\n",
    "x_test, y_test = read_data(test)"
   ]
  },
  {
   "cell_type": "code",
   "execution_count": 3,
   "metadata": {},
   "outputs": [
    {
     "data": {
      "text/plain": [
       "\"dear @Microsoft the newOoffice for Mac is great and all, but no Lync update? C'mon.\""
      ]
     },
     "execution_count": 3,
     "metadata": {},
     "output_type": "execute_result"
    }
   ],
   "source": [
    "x_train[0]"
   ]
  },
  {
   "cell_type": "markdown",
   "metadata": {},
   "source": [
    "### Transformacja danych"
   ]
  },
  {
   "cell_type": "code",
   "execution_count": 4,
   "metadata": {},
   "outputs": [],
   "source": [
    "x_train = preprocess(x_train)\n",
    "x_dev = preprocess(x_dev)\n",
    "x_test = preprocess(x_test)"
   ]
  },
  {
   "cell_type": "code",
   "execution_count": 5,
   "metadata": {},
   "outputs": [
    {
     "data": {
      "text/plain": [
       "\"dear _user_ the newooffice for mac is great and all, but no lync update? c'mon.\""
      ]
     },
     "execution_count": 5,
     "metadata": {},
     "output_type": "execute_result"
    }
   ],
   "source": [
    "x_train[0]"
   ]
  },
  {
   "cell_type": "code",
   "execution_count": 7,
   "metadata": {},
   "outputs": [],
   "source": [
    "#wymiar embeddingow jaki chcemy uzyc i sciezka do pliku z embeddingami\n",
    "\n",
    "# aby uruchomic, nalezy umiescic w folderze \"data/glove.twitter.27B\" plik z odpowiednimi embeddingami:\n",
    "# https://nlp.stanford.edu/projects/glove/\n",
    "\n",
    "emb_dim = 200\n",
    "\n",
    "embedding_path = \"data/glove.twitter.27B/glove.twitter.27B.\" + str(emb_dim) + \"d.txt\"\n",
    "\n",
    "words2ids, embeddings = load_embeddings(embedding_path, emb_dim)"
   ]
  },
  {
   "cell_type": "markdown",
   "metadata": {},
   "source": [
    "### Przetworzenie danych do postaci wymaganej przez keras"
   ]
  },
  {
   "cell_type": "code",
   "execution_count": 8,
   "metadata": {},
   "outputs": [],
   "source": [
    "maxlen = max([len(x) for x in x_train] + [len(x) for x in x_dev] + [len(x) for x in x_test])\n",
    "\n",
    "x_train, y_train = transform(x_train, y_train, words2ids, maxlen)\n",
    "x_dev, y_dev = transform(x_dev, y_dev, words2ids, maxlen)\n",
    "x_test, y_test= transform(x_test, y_test, words2ids, maxlen)"
   ]
  },
  {
   "cell_type": "code",
   "execution_count": 9,
   "metadata": {
    "scrolled": true
   },
   "outputs": [
    {
     "data": {
      "text/plain": [
       "array([     0,      0,      0,      0,      0,      0,      0,      0,\n",
       "            0,      0,      0,      0,      0,      0,      0,      0,\n",
       "            0,      0,      0,      0,      0,      0,      0,      0,\n",
       "            0,      0,      0,      0,      0,      0,      0,      0,\n",
       "            0,      0,      0,      0,      0,      0,      0,      0,\n",
       "            0,      0,      0,      0,      0,      0,      0,      0,\n",
       "            0,      0,      0,      0,      0,      0,      0,      0,\n",
       "            0,      0,      0,      0,      0,      0,      0,      0,\n",
       "            0,      0,      0,      0,      0,      0,      0,      0,\n",
       "            0,      0,      0,      0,      0,      0,      0,      0,\n",
       "            0,      0,      0,      0,      0,      0,      0,      0,\n",
       "            0,      0,      0,      0,      0,      0,      0,      0,\n",
       "            0,      0,      0,      0,      0,      0,      0,      0,\n",
       "            0,      0,      0,      0,      0,      0,      0,      0,\n",
       "            0,      0,      0,      0,      0,      0,      0,      0,\n",
       "            0,      0,      0,      0,      0,      0,      0,      0,\n",
       "            0,      0,      0,      0,      0,      0,      0,      0,\n",
       "            0,      0,      0,      0,      0,      0,      0,      0,\n",
       "            0,      0,      0,      0,      0,      0,      0,      0,\n",
       "            0,      0,      0,      0,      0,      0,      0,      0,\n",
       "            0,      0,      0,      0,      0,      0,      0,      0,\n",
       "            0,      0,      0,      0,      0,      0,      0,      0,\n",
       "            0,      0,      0,      0,      0,      0,      0,      0,\n",
       "            0,      0,      0,      0,      0,      0,      0,      0,\n",
       "            0,      0,      0,      0,      0,      0,      0,      0,\n",
       "            0,      0,      0,      0,      0,      0,      0,      0,\n",
       "            0,      0,      0,      0,      0,      0,      0,      0,\n",
       "            0,      0,      0,      0,      0,      0,      0,      0,\n",
       "            0,      0,      0,      0,      0,      0,      0,      0,\n",
       "            0,      0,      0,      0,      0,      0,      0,      0,\n",
       "            0,      0,      0,      0,      0,      0,      0,      0,\n",
       "            0,      0,      0,      0,      0,      0,      0,      0,\n",
       "            0,      0,      0,      0,      0,      0,      0,      0,\n",
       "            0,      0,      0,      0,      0,      0,      0,      0,\n",
       "            0,      0,      0,      0,      0,      0,      0,      0,\n",
       "            0,      0,      0,      0,      0,      0,      0,      0,\n",
       "            0,      0,      0,      0,      0,      0,      0,      0,\n",
       "            0,      0,      0,      0,      0,      0,      0,      0,\n",
       "            0,      0,      0,      0,      0,      0,      0,      0,\n",
       "            0,      0,      0,      0,      0,      0,      0,      0,\n",
       "            0,      0,      0,      0,      0,      0,      0,      0,\n",
       "            0,      0,      0,      0,      0,      0,      0,      0,\n",
       "            0,      0,      0,      0,      0,      0,      0,      0,\n",
       "         1034,      0,     13, 410056,     37,   2941,     32,    341,\n",
       "           26,     75,      4,     79,     30, 203306,   1880,     14,\n",
       "         6163,      1], dtype=int32)"
      ]
     },
     "execution_count": 9,
     "metadata": {},
     "output_type": "execute_result"
    }
   ],
   "source": [
    "x_train[0]"
   ]
  },
  {
   "cell_type": "markdown",
   "metadata": {},
   "source": [
    "### Uczenie i testowanie modeli"
   ]
  },
  {
   "cell_type": "code",
   "execution_count": 13,
   "metadata": {},
   "outputs": [
    {
     "name": "stderr",
     "output_type": "stream",
     "text": [
      "/usr/local/lib/python3.6/dist-packages/keras/layers/recurrent.py:2024: UserWarning: RNN dropout is no longer supported with the Theano backend due to technical limitations. You can either set `dropout` and `recurrent_dropout` to 0, or use the TensorFlow backend.\n",
      "  'RNN dropout is no longer supported with the Theano backend '\n"
     ]
    },
    {
     "name": "stdout",
     "output_type": "stream",
     "text": [
      "Model :  LSTM\n",
      "_________________________________________________________________\n",
      "Layer (type)                 Output Shape              Param #   \n",
      "=================================================================\n",
      "embedding_7 (Embedding)      (None, 362, 200)          238703000 \n",
      "_________________________________________________________________\n",
      "lstm_6 (LSTM)                (None, 100)               120400    \n",
      "_________________________________________________________________\n",
      "dense_6 (Dense)              (None, 3)                 303       \n",
      "=================================================================\n",
      "Total params: 238,823,703\n",
      "Trainable params: 238,823,703\n",
      "Non-trainable params: 0\n",
      "_________________________________________________________________\n",
      "None\n",
      "Train on 6000 samples, validate on 1999 samples\n",
      "Epoch 1/30\n",
      "6000/6000 [==============================] - 2522s 420ms/step - loss: 0.9340 - categorical_accuracy: 0.5407 - val_loss: 0.9719 - val_categorical_accuracy: 0.5133\n",
      "Epoch 2/30\n",
      "6000/6000 [==============================] - 2446s 408ms/step - loss: 0.7025 - categorical_accuracy: 0.6953 - val_loss: 1.0166 - val_categorical_accuracy: 0.5193\n",
      "Epoch 3/30\n",
      "6000/6000 [==============================] - 2369s 395ms/step - loss: 0.4174 - categorical_accuracy: 0.8318 - val_loss: 1.2209 - val_categorical_accuracy: 0.5078\n",
      "Model :  BidirectionalLSTM\n",
      "_________________________________________________________________\n",
      "Layer (type)                 Output Shape              Param #   \n",
      "=================================================================\n",
      "embedding_8 (Embedding)      (None, 362, 200)          238703000 \n",
      "_________________________________________________________________\n",
      "bidirectional_3 (Bidirection (None, 200)               240800    \n",
      "_________________________________________________________________\n",
      "dense_7 (Dense)              (None, 3)                 603       \n",
      "=================================================================\n",
      "Total params: 238,944,403\n",
      "Trainable params: 238,944,403\n",
      "Non-trainable params: 0\n",
      "_________________________________________________________________\n",
      "None\n",
      "Train on 6000 samples, validate on 1999 samples\n",
      "Epoch 1/30\n",
      "6000/6000 [==============================] - 6442s 1s/step - loss: 0.9274 - categorical_accuracy: 0.5487 - val_loss: 0.9853 - val_categorical_accuracy: 0.5163\n",
      "Epoch 2/30\n",
      "6000/6000 [==============================] - 8973s 1s/step - loss: 0.7069 - categorical_accuracy: 0.6900 - val_loss: 0.9794 - val_categorical_accuracy: 0.5213\n",
      "Epoch 3/30\n",
      "6000/6000 [==============================] - 8133s 1s/step - loss: 0.4381 - categorical_accuracy: 0.8293 - val_loss: 1.2107 - val_categorical_accuracy: 0.5008\n",
      "Epoch 4/30\n",
      "6000/6000 [==============================] - 7365s 1s/step - loss: 0.2094 - categorical_accuracy: 0.9258 - val_loss: 1.5220 - val_categorical_accuracy: 0.5153\n"
     ]
    }
   ],
   "source": [
    "names = [\"LSTM\", \"BidirectionalLSTM\"]\n",
    "models = [LSTMmodel(100, embeddings, embeddings.shape[0], embeddings.shape[1], maxlen), \n",
    "          BidirectionalLSTMmodel(100, embeddings, embeddings.shape[0], embeddings.shape[1], maxlen)]\n",
    "\n",
    "\n",
    "\n",
    "results = []\n",
    "\n",
    "for model,name in zip(models,names):\n",
    "\n",
    "    print(\"Model : \",name)\n",
    "    \n",
    "    print(model.summary())\n",
    "    \n",
    "    early_stopping = EarlyStopping(patience=2,monitor=\"val_loss\")\n",
    "\n",
    "    model.fit(x_train, y_train,\n",
    "              batch_size=4,\n",
    "              epochs = 30,\n",
    "              callbacks=[early_stopping],\n",
    "              validation_data=(x_dev,y_dev))\n",
    "\n",
    "    results.append((name,model.evaluate(x_test, y_test, verbose=0)[1]))"
   ]
  },
  {
   "cell_type": "markdown",
   "metadata": {},
   "source": [
    "### Wyniki [nie wyszly zbyt dobre... Punkt odniesienia to 0.50 dla tych danych]"
   ]
  },
  {
   "cell_type": "code",
   "execution_count": 14,
   "metadata": {},
   "outputs": [],
   "source": [
    "results = pd.DataFrame(results)"
   ]
  },
  {
   "cell_type": "code",
   "execution_count": 15,
   "metadata": {},
   "outputs": [
    {
     "data": {
      "text/html": [
       "<div>\n",
       "<style scoped>\n",
       "    .dataframe tbody tr th:only-of-type {\n",
       "        vertical-align: middle;\n",
       "    }\n",
       "\n",
       "    .dataframe tbody tr th {\n",
       "        vertical-align: top;\n",
       "    }\n",
       "\n",
       "    .dataframe thead th {\n",
       "        text-align: right;\n",
       "    }\n",
       "</style>\n",
       "<table border=\"1\" class=\"dataframe\">\n",
       "  <thead>\n",
       "    <tr style=\"text-align: right;\">\n",
       "      <th></th>\n",
       "      <th>0</th>\n",
       "      <th>1</th>\n",
       "    </tr>\n",
       "  </thead>\n",
       "  <tbody>\n",
       "    <tr>\n",
       "      <th>0</th>\n",
       "      <td>LSTM</td>\n",
       "      <td>0.510130</td>\n",
       "    </tr>\n",
       "    <tr>\n",
       "      <th>1</th>\n",
       "      <td>BidirectionalLSTM</td>\n",
       "      <td>0.516188</td>\n",
       "    </tr>\n",
       "  </tbody>\n",
       "</table>\n",
       "</div>"
      ],
      "text/plain": [
       "                   0         1\n",
       "0               LSTM  0.510130\n",
       "1  BidirectionalLSTM  0.516188"
      ]
     },
     "execution_count": 15,
     "metadata": {},
     "output_type": "execute_result"
    }
   ],
   "source": [
    "results"
   ]
  }
 ],
 "metadata": {
  "kernelspec": {
   "display_name": "Python 3",
   "language": "python",
   "name": "python3"
  },
  "language_info": {
   "codemirror_mode": {
    "name": "ipython",
    "version": 3
   },
   "file_extension": ".py",
   "mimetype": "text/x-python",
   "name": "python",
   "nbconvert_exporter": "python",
   "pygments_lexer": "ipython3",
   "version": "3.6.3"
  }
 },
 "nbformat": 4,
 "nbformat_minor": 2
}
